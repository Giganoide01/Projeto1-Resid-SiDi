{
 "cells": [
  {
   "cell_type": "markdown",
   "id": "03723ae4-1f75-4707-a3bc-2330ad51d18b",
   "metadata": {},
   "source": [
    "# Leitura do dataset"
   ]
  },
  {
   "cell_type": "code",
   "execution_count": 1,
   "id": "66617f07-40cd-488c-a78c-2e434027b58a",
   "metadata": {},
   "outputs": [
    {
     "data": {
      "text/html": [
       "<div>\n",
       "<style scoped>\n",
       "    .dataframe tbody tr th:only-of-type {\n",
       "        vertical-align: middle;\n",
       "    }\n",
       "\n",
       "    .dataframe tbody tr th {\n",
       "        vertical-align: top;\n",
       "    }\n",
       "\n",
       "    .dataframe thead th {\n",
       "        text-align: right;\n",
       "    }\n",
       "</style>\n",
       "<table border=\"1\" class=\"dataframe\">\n",
       "  <thead>\n",
       "    <tr style=\"text-align: right;\">\n",
       "      <th></th>\n",
       "      <th>patient_number</th>\n",
       "      <th>cholesterol</th>\n",
       "      <th>glucose</th>\n",
       "      <th>hdl_chol</th>\n",
       "      <th>chol_hdl_ratio</th>\n",
       "      <th>age</th>\n",
       "      <th>gender</th>\n",
       "      <th>height</th>\n",
       "      <th>weight</th>\n",
       "      <th>bmi</th>\n",
       "      <th>systolic_bp</th>\n",
       "      <th>diastolic_bp</th>\n",
       "      <th>waist</th>\n",
       "      <th>hip</th>\n",
       "      <th>waist_hip_ratio</th>\n",
       "      <th>diabetes</th>\n",
       "    </tr>\n",
       "  </thead>\n",
       "  <tbody>\n",
       "    <tr>\n",
       "      <th>0</th>\n",
       "      <td>1</td>\n",
       "      <td>193</td>\n",
       "      <td>77</td>\n",
       "      <td>49</td>\n",
       "      <td>3.9</td>\n",
       "      <td>19</td>\n",
       "      <td>female</td>\n",
       "      <td>61</td>\n",
       "      <td>119</td>\n",
       "      <td>22.5</td>\n",
       "      <td>118</td>\n",
       "      <td>70</td>\n",
       "      <td>32</td>\n",
       "      <td>38</td>\n",
       "      <td>0.84</td>\n",
       "      <td>No diabetes</td>\n",
       "    </tr>\n",
       "    <tr>\n",
       "      <th>1</th>\n",
       "      <td>2</td>\n",
       "      <td>146</td>\n",
       "      <td>79</td>\n",
       "      <td>41</td>\n",
       "      <td>3.6</td>\n",
       "      <td>19</td>\n",
       "      <td>female</td>\n",
       "      <td>60</td>\n",
       "      <td>135</td>\n",
       "      <td>26.4</td>\n",
       "      <td>108</td>\n",
       "      <td>58</td>\n",
       "      <td>33</td>\n",
       "      <td>40</td>\n",
       "      <td>0.83</td>\n",
       "      <td>No diabetes</td>\n",
       "    </tr>\n",
       "    <tr>\n",
       "      <th>2</th>\n",
       "      <td>3</td>\n",
       "      <td>217</td>\n",
       "      <td>75</td>\n",
       "      <td>54</td>\n",
       "      <td>4.0</td>\n",
       "      <td>20</td>\n",
       "      <td>female</td>\n",
       "      <td>67</td>\n",
       "      <td>187</td>\n",
       "      <td>29.3</td>\n",
       "      <td>110</td>\n",
       "      <td>72</td>\n",
       "      <td>40</td>\n",
       "      <td>45</td>\n",
       "      <td>0.89</td>\n",
       "      <td>No diabetes</td>\n",
       "    </tr>\n",
       "    <tr>\n",
       "      <th>3</th>\n",
       "      <td>4</td>\n",
       "      <td>226</td>\n",
       "      <td>97</td>\n",
       "      <td>70</td>\n",
       "      <td>3.2</td>\n",
       "      <td>20</td>\n",
       "      <td>female</td>\n",
       "      <td>64</td>\n",
       "      <td>114</td>\n",
       "      <td>19.6</td>\n",
       "      <td>122</td>\n",
       "      <td>64</td>\n",
       "      <td>31</td>\n",
       "      <td>39</td>\n",
       "      <td>0.79</td>\n",
       "      <td>No diabetes</td>\n",
       "    </tr>\n",
       "    <tr>\n",
       "      <th>4</th>\n",
       "      <td>5</td>\n",
       "      <td>164</td>\n",
       "      <td>91</td>\n",
       "      <td>67</td>\n",
       "      <td>2.4</td>\n",
       "      <td>20</td>\n",
       "      <td>female</td>\n",
       "      <td>70</td>\n",
       "      <td>141</td>\n",
       "      <td>20.2</td>\n",
       "      <td>122</td>\n",
       "      <td>86</td>\n",
       "      <td>32</td>\n",
       "      <td>39</td>\n",
       "      <td>0.82</td>\n",
       "      <td>No diabetes</td>\n",
       "    </tr>\n",
       "  </tbody>\n",
       "</table>\n",
       "</div>"
      ],
      "text/plain": [
       "   patient_number  cholesterol  glucose  hdl_chol  chol_hdl_ratio  age  \\\n",
       "0               1          193       77        49             3.9   19   \n",
       "1               2          146       79        41             3.6   19   \n",
       "2               3          217       75        54             4.0   20   \n",
       "3               4          226       97        70             3.2   20   \n",
       "4               5          164       91        67             2.4   20   \n",
       "\n",
       "   gender  height  weight   bmi  systolic_bp  diastolic_bp  waist  hip  \\\n",
       "0  female      61     119  22.5          118            70     32   38   \n",
       "1  female      60     135  26.4          108            58     33   40   \n",
       "2  female      67     187  29.3          110            72     40   45   \n",
       "3  female      64     114  19.6          122            64     31   39   \n",
       "4  female      70     141  20.2          122            86     32   39   \n",
       "\n",
       "   waist_hip_ratio     diabetes  \n",
       "0             0.84  No diabetes  \n",
       "1             0.83  No diabetes  \n",
       "2             0.89  No diabetes  \n",
       "3             0.79  No diabetes  \n",
       "4             0.82  No diabetes  "
      ]
     },
     "execution_count": 1,
     "metadata": {},
     "output_type": "execute_result"
    }
   ],
   "source": [
    "import pandas as pd\n",
    "import numpy as np\n",
    "import matplotlib.pyplot as plt\n",
    "\n",
    "diabetes = pd.read_csv('/home/ld_brito/CinUFPE/SiDi/Projeto1/Datasets/Diabetes/DataWorld_Diabetes_Prediction/data/diabetes_classification.csv')\n",
    "diabetes.head()"
   ]
  },
  {
   "cell_type": "code",
   "execution_count": 2,
   "id": "7486b65c-69f4-480e-88b7-d1099eb9102e",
   "metadata": {},
   "outputs": [
    {
     "data": {
      "text/plain": [
       "(390, 16)"
      ]
     },
     "execution_count": 2,
     "metadata": {},
     "output_type": "execute_result"
    }
   ],
   "source": [
    "diabetes.shape"
   ]
  },
  {
   "cell_type": "markdown",
   "id": "0c194fbe-39bd-4f4c-989a-9ffaa0d597f5",
   "metadata": {},
   "source": [
    "# Verificação de vazios e duplicatas"
   ]
  },
  {
   "cell_type": "code",
   "execution_count": 3,
   "id": "a2e3c81b-5d7c-4e2e-b0bb-5158542732e6",
   "metadata": {},
   "outputs": [
    {
     "data": {
      "text/plain": [
       "patient_number     0\n",
       "cholesterol        0\n",
       "glucose            0\n",
       "hdl_chol           0\n",
       "chol_hdl_ratio     0\n",
       "age                0\n",
       "gender             0\n",
       "height             0\n",
       "weight             0\n",
       "bmi                0\n",
       "systolic_bp        0\n",
       "diastolic_bp       0\n",
       "waist              0\n",
       "hip                0\n",
       "waist_hip_ratio    0\n",
       "diabetes           0\n",
       "dtype: int64"
      ]
     },
     "execution_count": 3,
     "metadata": {},
     "output_type": "execute_result"
    }
   ],
   "source": [
    "diabetes.isnull().sum()"
   ]
  },
  {
   "cell_type": "code",
   "execution_count": 4,
   "id": "b82e3514-5b42-4afc-bd67-9097413219db",
   "metadata": {},
   "outputs": [
    {
     "data": {
      "text/plain": [
       "0"
      ]
     },
     "execution_count": 4,
     "metadata": {},
     "output_type": "execute_result"
    }
   ],
   "source": [
    "diabetes.duplicated().sum()"
   ]
  },
  {
   "cell_type": "markdown",
   "id": "f9c63d9e-b0f5-493f-98c1-80527f8649b4",
   "metadata": {},
   "source": [
    "# Ajuste dos tipos de variáveis"
   ]
  },
  {
   "cell_type": "code",
   "execution_count": 5,
   "id": "fceb013f-77f2-4ea6-b443-127a9657b100",
   "metadata": {},
   "outputs": [
    {
     "name": "stdout",
     "output_type": "stream",
     "text": [
      "<class 'pandas.core.frame.DataFrame'>\n",
      "RangeIndex: 390 entries, 0 to 389\n",
      "Data columns (total 16 columns):\n",
      " #   Column           Non-Null Count  Dtype  \n",
      "---  ------           --------------  -----  \n",
      " 0   patient_number   390 non-null    int64  \n",
      " 1   cholesterol      390 non-null    int64  \n",
      " 2   glucose          390 non-null    int64  \n",
      " 3   hdl_chol         390 non-null    int64  \n",
      " 4   chol_hdl_ratio   390 non-null    float64\n",
      " 5   age              390 non-null    int64  \n",
      " 6   gender           390 non-null    object \n",
      " 7   height           390 non-null    int64  \n",
      " 8   weight           390 non-null    int64  \n",
      " 9   bmi              390 non-null    float64\n",
      " 10  systolic_bp      390 non-null    int64  \n",
      " 11  diastolic_bp     390 non-null    int64  \n",
      " 12  waist            390 non-null    int64  \n",
      " 13  hip              390 non-null    int64  \n",
      " 14  waist_hip_ratio  390 non-null    float64\n",
      " 15  diabetes         390 non-null    object \n",
      "dtypes: float64(3), int64(11), object(2)\n",
      "memory usage: 48.9+ KB\n"
     ]
    }
   ],
   "source": [
    "diabetes.info()"
   ]
  },
  {
   "cell_type": "code",
   "execution_count": 6,
   "id": "4cb5a9e5-4c02-49df-ba85-37440df3e3dc",
   "metadata": {},
   "outputs": [],
   "source": [
    "diabetes['gender'] = diabetes['gender'].replace(['male','female'],[1,0])\n",
    "diabetes['diabetes'] = diabetes['diabetes'].replace(['Diabetes','No diabetes'],[1,0])"
   ]
  },
  {
   "cell_type": "markdown",
   "id": "7720506d-008a-4620-ac46-68c142089347",
   "metadata": {},
   "source": [
    "# Feature Selection"
   ]
  },
  {
   "cell_type": "markdown",
   "id": "71ece496-5d58-4ed1-968e-d701d58da393",
   "metadata": {},
   "source": [
    "## Variáveis Numéricas"
   ]
  },
  {
   "cell_type": "markdown",
   "id": "a989227c-e2f5-45a0-9e5d-993746a50ef9",
   "metadata": {},
   "source": [
    "### Teste F"
   ]
  },
  {
   "cell_type": "code",
   "execution_count": 7,
   "id": "8722a0e6-b00c-4fb7-be52-13b0486404a8",
   "metadata": {},
   "outputs": [
    {
     "name": "stdout",
     "output_type": "stream",
     "text": [
      "           Atributo       Score       P-valor\n",
      "1           glucose  350.809177  3.205119e-56\n",
      "4               age   38.936985  1.146990e-09\n",
      "3    chol_hdl_ratio   31.242678  4.298115e-08\n",
      "10            waist   20.377081  8.444225e-06\n",
      "0       cholesterol   16.893380  4.827353e-05\n",
      "8       systolic_bp   15.931795  7.853024e-05\n",
      "12  waist_hip_ratio   12.348083  4.935038e-04\n",
      "6            weight   10.588454  1.237749e-03\n",
      "7               bmi    8.365055  4.040512e-03\n",
      "11              hip    8.191726  4.436238e-03\n"
     ]
    },
    {
     "data": {
      "image/png": "[encoded data removed]",
      "text/plain": [
       "<Figure size 432x288 with 1 Axes>"
      ]
     },
     "metadata": {
      "needs_background": "light"
     },
     "output_type": "display_data"
    }
   ],
   "source": [
    "from sklearn.feature_selection import SelectKBest, f_classif\n",
    "\n",
    "# Eliminação das variáveis contínuas\n",
    "numeric_features = list(range(len(diabetes.columns)))\n",
    "numeric_features.remove(0)\n",
    "numeric_features.remove(6)\n",
    "numeric_features.remove(15)\n",
    "\n",
    "x = diabetes.iloc[:,numeric_features]\n",
    "y = diabetes.iloc[:,-1]\n",
    "\n",
    "# Ajuste da função\n",
    "bestfeatures_f = f_classif(x,y)\n",
    "\n",
    "# Criação do Dataframe\n",
    "dfscores_f = pd.DataFrame(bestfeatures_f[0])\n",
    "dfpvalues_f = pd.DataFrame(bestfeatures_f[1])\n",
    "dfcolumns_f = pd.DataFrame(x.columns)\n",
    "featureScores_f = pd.concat([dfcolumns_f,dfscores_f,dfpvalues_f],axis=1)\n",
    "featureScores_f.columns = ['Atributo','Score','P-valor']\n",
    "# Print dos atributos com p-valor menor do que 0.01\n",
    "print(featureScores_f[featureScores_f['P-valor']<0.01].sort_values('P-valor',ascending = True))\n",
    "\n",
    "# Plot dos atributos em um gráfico de barras\n",
    "featureScores_f.sort_values('Score',ascending = True).plot.barh(x = 'Atributo',y = 'Score',rot=0,zorder=2,legend=False)\n",
    "plt.grid(axis='x')\n",
    "plt.title(\"Estatística F dos atributos do dataset\\n de afro americanos da zona rural\",fontdict={'size':16})\n",
    "plt.yticks(fontsize=12)\n",
    "plt.xlabel(\"Estatística F\",fontsize=14)\n",
    "plt.ylabel(\"Atributos\",fontsize=14)\n",
    "plt.savefig('barplot_dw_num_f.png',dpi=400,bbox_inches='tight')\n",
    "plt.show()"
   ]
  },
  {
   "cell_type": "markdown",
   "id": "37b86c6d-6117-4f64-b218-e6990752817f",
   "metadata": {},
   "source": [
    "### Mutual Information"
   ]
  },
  {
   "cell_type": "code",
   "execution_count": 8,
   "id": "a70b8af9-12e5-48a9-97ac-d9621c2cc39a",
   "metadata": {},
   "outputs": [
    {
     "name": "stdout",
     "output_type": "stream",
     "text": [
      "           Atributo     Score\n",
      "0           glucose  0.217655\n",
      "1    chol_hdl_ratio  0.039955\n",
      "2   waist_hip_ratio  0.039542\n",
      "3               age  0.029528\n",
      "4               bmi  0.024132\n",
      "5               hip  0.020004\n",
      "6             waist  0.018594\n",
      "7       systolic_bp  0.016850\n",
      "8            weight  0.015569\n",
      "9      diastolic_bp  0.015256\n",
      "10      cholesterol  0.008945\n",
      "11           height  0.004993\n",
      "12         hdl_chol  0.000028\n"
     ]
    },
    {
     "data": {
      "image/png": "[encoded data removed]",
      "text/plain": [
       "<Figure size 432x288 with 1 Axes>"
      ]
     },
     "metadata": {
      "needs_background": "light"
     },
     "output_type": "display_data"
    }
   ],
   "source": [
    "from sklearn.feature_selection import SelectKBest, mutual_info_classif\n",
    "\n",
    "# Eliminação das variáveis contínuas\n",
    "numeric_features = list(range(len(diabetes.columns)))\n",
    "numeric_features.remove(0)\n",
    "numeric_features.remove(6)\n",
    "numeric_features.remove(15)\n",
    "\n",
    "x = diabetes.iloc[:,numeric_features]\n",
    "y = diabetes.iloc[:,-1]\n",
    "\n",
    "# Devido a natureza estocástica do método de aproximação dessa \n",
    "# função de mutual information para dados contínuos em relação aos discretos,\n",
    "# é preciso realizar muitas repetições para obeter um resultado confiável\n",
    "mean_mi=0\n",
    "for i in range(100):\n",
    "    bestfeatures_mi = mutual_info_classif(x,y,discrete_features=False)\n",
    "    mean_mi += bestfeatures_mi/100\n",
    "    \n",
    "# Criação do Dataframe\n",
    "dfscores_mi = pd.DataFrame(mean_mi)\n",
    "dfcolumns_mi = pd.DataFrame(x.columns)\n",
    "featureScores_mi = pd.concat([dfcolumns_mi,dfscores_mi],axis=1)\n",
    "featureScores_mi.columns = ['Atributo','Score']  #nome das colunas do dataframe\n",
    "# Print da tabela de Score de Mutual Information \n",
    "print(featureScores_mi.sort_values('Score',ascending = False).reset_index(drop=True))\n",
    "\n",
    "# Plot dos atributos em um gráfico de barras\n",
    "featureScores_mi.sort_values('Score',ascending = True).plot.barh(x = 'Atributo',y = 'Score',rot=0,zorder=2,legend=False)\n",
    "plt.grid(axis='x')\n",
    "plt.title(\"Informação mutua dos atributos do dataset\\n de afro americanos da zona rural\",fontdict={'size':16})\n",
    "plt.yticks(fontsize=12)\n",
    "plt.xlabel(\"Score de Informação mutua\",fontsize=14)\n",
    "plt.ylabel(\"Atributos\",fontsize=14)\n",
    "plt.savefig('barplot_dw_num_mu.png',dpi=400,bbox_inches='tight')\n",
    "plt.show()"
   ]
  },
  {
   "cell_type": "markdown",
   "id": "a4c98207-c0ad-4f0a-8f7c-15034c3f99e3",
   "metadata": {},
   "source": [
    "## Variáveis Categóricas"
   ]
  },
  {
   "cell_type": "markdown",
   "id": "e0f2bb71-f9d8-40af-ba2e-3e3dd80bacd8",
   "metadata": {},
   "source": [
    "### Ki-Quadrado"
   ]
  },
  {
   "cell_type": "code",
   "execution_count": 9,
   "id": "c4fa04b9-e33e-40a1-8e41-470fee2da767",
   "metadata": {},
   "outputs": [
    {
     "name": "stdout",
     "output_type": "stream",
     "text": [
      "  Features     Score  P-values\n",
      "0   gender  0.054994   0.81459\n"
     ]
    }
   ],
   "source": [
    "from sklearn.feature_selection import SelectKBest, chi2\n",
    "\n",
    "x = diabetes['gender'].array.reshape(-1, 1)\n",
    "y = diabetes.iloc[:,-1]\n",
    "\n",
    "# Ajuste da função\n",
    "bestfeatures_chi2 = chi2(x,y)\n",
    "\n",
    "# Criação do Dataframe\n",
    "dfscores_chi2 = pd.DataFrame(bestfeatures_chi2[0])\n",
    "dfpvalues_chi2 = pd.DataFrame(bestfeatures_chi2[1])\n",
    "dfcolumns_chi2 = pd.DataFrame(np.array(['gender']))\n",
    "featureScores_chi2 = pd.concat([dfcolumns_chi2,dfscores_chi2,dfpvalues_chi2],axis=1)\n",
    "featureScores_chi2.columns = ['Features','Score','P-values']  #naming the dataframe columns\n",
    "\n",
    "# Print da tabela de Score e P-valor do Ki-Quadrado\n",
    "print(featureScores_chi2)"
   ]
  },
  {
   "cell_type": "markdown",
   "id": "b634859b-ec65-42a3-9fe0-a63a053c4770",
   "metadata": {},
   "source": [
    "### Mutual Information"
   ]
  },
  {
   "cell_type": "code",
   "execution_count": 10,
   "id": "23337f25-c710-4263-9c65-396a41728d6d",
   "metadata": {},
   "outputs": [
    {
     "name": "stdout",
     "output_type": "stream",
     "text": [
      "  Atributo    Score\n",
      "0   gender  0.00012\n"
     ]
    }
   ],
   "source": [
    "from sklearn.feature_selection import SelectKBest, mutual_info_classif\n",
    "\n",
    "x = diabetes['gender'].array.reshape(-1, 1)\n",
    "y = diabetes.iloc[:,-1]\n",
    "\n",
    "bestfeatures_mi = mutual_info_classif(x,y,discrete_features=True)\n",
    "\n",
    "# Criação do Dataframe\n",
    "dfscores_mi = pd.DataFrame(bestfeatures_mi)\n",
    "dfcolumns_mi = pd.DataFrame(np.array(['gender']))\n",
    "featureScores_mi = pd.concat([dfcolumns_mi,dfscores_mi],axis=1)\n",
    "featureScores_mi.columns = ['Atributo','Score']\n",
    "# Print da tabela de Score de Mutual Information \n",
    "print(featureScores_mi)"
   ]
  }
 ],
 "metadata": {
  "kernelspec": {
   "display_name": "Python 3 (ipykernel)",
   "language": "python",
   "name": "python3"
  },
  "language_info": {
   "codemirror_mode": {
    "name": "ipython",
    "version": 3
   },
   "file_extension": ".py",
   "mimetype": "text/x-python",
   "name": "python",
   "nbconvert_exporter": "python",
   "pygments_lexer": "ipython3",
   "version": "3.8.3"
  }
 },
 "nbformat": 4,
 "nbformat_minor": 5
}
